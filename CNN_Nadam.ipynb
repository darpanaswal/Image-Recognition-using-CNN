{
 "cells": [
  {
   "cell_type": "markdown",
   "metadata": {
    "colab_type": "text",
    "id": "3DR-eO17geWu"
   },
   "source": [
    "# Convolutional Neural Network"
   ]
  },
  {
   "cell_type": "markdown",
   "metadata": {
    "colab_type": "text",
    "id": "EMefrVPCg-60"
   },
   "source": [
    "### Importing the libraries"
   ]
  },
  {
   "cell_type": "code",
   "execution_count": 1,
   "metadata": {
    "colab": {},
    "colab_type": "code",
    "id": "sCV30xyVhFbE"
   },
   "outputs": [],
   "source": [
    "import tensorflow as tf\n",
    "from keras.preprocessing.image import ImageDataGenerator"
   ]
  },
  {
   "cell_type": "markdown",
   "metadata": {
    "colab_type": "text",
    "id": "oxQxCBWyoGPE"
   },
   "source": [
    "## Part 1 - Data Preprocessing"
   ]
  },
  {
   "cell_type": "markdown",
   "metadata": {
    "colab_type": "text",
    "id": "MvE-heJNo3GG"
   },
   "source": [
    "### Preprocessing the Training set"
   ]
  },
  {
   "cell_type": "code",
   "execution_count": 2,
   "metadata": {},
   "outputs": [
    {
     "name": "stdout",
     "output_type": "stream",
     "text": [
      "Found 7999 images belonging to 2 classes.\n"
     ]
    }
   ],
   "source": [
    "train_datagen = ImageDataGenerator(rescale = 1./255, shear_range = 0.2, zoom_range = 0.2, horizontal_flip = True)\n",
    "training_set = train_datagen.flow_from_directory('dataset/training_set', target_size = (64, 64), \n",
    "                                                 batch_size = 32, class_mode = 'binary')"
   ]
  },
  {
   "cell_type": "markdown",
   "metadata": {
    "colab_type": "text",
    "id": "mrCMmGw9pHys"
   },
   "source": [
    "### Preprocessing the Test set"
   ]
  },
  {
   "cell_type": "code",
   "execution_count": 3,
   "metadata": {},
   "outputs": [
    {
     "name": "stdout",
     "output_type": "stream",
     "text": [
      "Found 2000 images belonging to 2 classes.\n"
     ]
    }
   ],
   "source": [
    "test_datagen = ImageDataGenerator(rescale = 1./255)\n",
    "test_set = test_datagen.flow_from_directory('dataset/test_set', target_size = (64, 64), \n",
    "                                                 batch_size = 32, class_mode = 'binary')"
   ]
  },
  {
   "cell_type": "markdown",
   "metadata": {
    "colab_type": "text",
    "id": "af8O4l90gk7B"
   },
   "source": [
    "## Part 2 - Building the CNN"
   ]
  },
  {
   "cell_type": "markdown",
   "metadata": {
    "colab_type": "text",
    "id": "ces1gXY2lmoX"
   },
   "source": [
    "### Initialising the CNN"
   ]
  },
  {
   "cell_type": "code",
   "execution_count": 4,
   "metadata": {},
   "outputs": [],
   "source": [
    "cnn = tf.keras.models.Sequential()"
   ]
  },
  {
   "cell_type": "markdown",
   "metadata": {
    "colab_type": "text",
    "id": "u5YJj_XMl5LF"
   },
   "source": [
    "### Step 1 - Convolution"
   ]
  },
  {
   "cell_type": "code",
   "execution_count": 5,
   "metadata": {},
   "outputs": [],
   "source": [
    "cnn.add(tf.keras.layers.Conv2D(filters = 32, kernel_size = 3, activation = 'relu', input_shape = (64, 64, 3)))"
   ]
  },
  {
   "cell_type": "markdown",
   "metadata": {
    "colab_type": "text",
    "id": "tf87FpvxmNOJ"
   },
   "source": [
    "### Step 2 - Pooling"
   ]
  },
  {
   "cell_type": "code",
   "execution_count": 6,
   "metadata": {},
   "outputs": [],
   "source": [
    "cnn.add(tf.keras.layers.MaxPool2D(pool_size = 2, strides = 2))"
   ]
  },
  {
   "cell_type": "markdown",
   "metadata": {
    "colab_type": "text",
    "id": "xaTOgD8rm4mU"
   },
   "source": [
    "### Adding a second convolutional layer"
   ]
  },
  {
   "cell_type": "code",
   "execution_count": 7,
   "metadata": {},
   "outputs": [],
   "source": [
    "cnn.add(tf.keras.layers.Conv2D(filters = 32, kernel_size = 3, activation = 'relu'))\n",
    "cnn.add(tf.keras.layers.MaxPool2D(pool_size = 2, strides = 2))"
   ]
  },
  {
   "cell_type": "markdown",
   "metadata": {
    "colab_type": "text",
    "id": "tmiEuvTunKfk"
   },
   "source": [
    "### Step 3 - Flattening"
   ]
  },
  {
   "cell_type": "code",
   "execution_count": 8,
   "metadata": {},
   "outputs": [],
   "source": [
    "cnn.add(tf.keras.layers.Flatten())"
   ]
  },
  {
   "cell_type": "markdown",
   "metadata": {
    "colab_type": "text",
    "id": "dAoSECOm203v"
   },
   "source": [
    "### Step 4 - Full Connection"
   ]
  },
  {
   "cell_type": "code",
   "execution_count": 9,
   "metadata": {},
   "outputs": [],
   "source": [
    "cnn.add(tf.keras.layers.Dense(units = 128, activation = 'relu'))"
   ]
  },
  {
   "cell_type": "markdown",
   "metadata": {
    "colab_type": "text",
    "id": "yTldFvbX28Na"
   },
   "source": [
    "### Step 5 - Output Layer"
   ]
  },
  {
   "cell_type": "code",
   "execution_count": 10,
   "metadata": {},
   "outputs": [],
   "source": [
    "cnn.add(tf.keras.layers.Dense(units = 1, activation = 'sigmoid'))"
   ]
  },
  {
   "cell_type": "markdown",
   "metadata": {
    "colab_type": "text",
    "id": "D6XkI90snSDl"
   },
   "source": [
    "## Part 3 - Training the CNN"
   ]
  },
  {
   "cell_type": "markdown",
   "metadata": {
    "colab_type": "text",
    "id": "vfrFQACEnc6i"
   },
   "source": [
    "### Compiling the CNN"
   ]
  },
  {
   "cell_type": "code",
   "execution_count": 11,
   "metadata": {},
   "outputs": [],
   "source": [
    "cnn.compile(optimizer = 'Nadam', loss = 'binary_crossentropy', metrics = ['accuracy'])"
   ]
  },
  {
   "cell_type": "markdown",
   "metadata": {
    "colab_type": "text",
    "id": "ehS-v3MIpX2h"
   },
   "source": [
    "### Training the CNN on the Training set and evaluating it on the Test set"
   ]
  },
  {
   "cell_type": "code",
   "execution_count": 12,
   "metadata": {},
   "outputs": [
    {
     "name": "stdout",
     "output_type": "stream",
     "text": [
      "Epoch 1/25\n",
      "250/250 [==============================] - 59s 229ms/step - loss: 0.6676 - accuracy: 0.5967 - val_loss: 0.6632 - val_accuracy: 0.6150\n",
      "Epoch 2/25\n",
      "250/250 [==============================] - 59s 238ms/step - loss: 0.5839 - accuracy: 0.6943 - val_loss: 0.5467 - val_accuracy: 0.7230\n",
      "Epoch 3/25\n",
      "250/250 [==============================] - 57s 226ms/step - loss: 0.5360 - accuracy: 0.7302 - val_loss: 0.5032 - val_accuracy: 0.7530\n",
      "Epoch 4/25\n",
      "250/250 [==============================] - 56s 223ms/step - loss: 0.4988 - accuracy: 0.7530 - val_loss: 0.5011 - val_accuracy: 0.7630\n",
      "Epoch 5/25\n",
      "250/250 [==============================] - 57s 230ms/step - loss: 0.4748 - accuracy: 0.7717 - val_loss: 0.4774 - val_accuracy: 0.7770\n",
      "Epoch 6/25\n",
      "250/250 [==============================] - 61s 242ms/step - loss: 0.4575 - accuracy: 0.7861 - val_loss: 0.4647 - val_accuracy: 0.7820\n",
      "Epoch 7/25\n",
      "250/250 [==============================] - 58s 232ms/step - loss: 0.4343 - accuracy: 0.7980 - val_loss: 0.4539 - val_accuracy: 0.7890\n",
      "Epoch 8/25\n",
      "250/250 [==============================] - 56s 225ms/step - loss: 0.4214 - accuracy: 0.8022 - val_loss: 0.4547 - val_accuracy: 0.7915\n",
      "Epoch 9/25\n",
      "250/250 [==============================] - 57s 226ms/step - loss: 0.4038 - accuracy: 0.8149 - val_loss: 0.4585 - val_accuracy: 0.7945\n",
      "Epoch 10/25\n",
      "250/250 [==============================] - 56s 223ms/step - loss: 0.3899 - accuracy: 0.8211 - val_loss: 0.4458 - val_accuracy: 0.7915\n",
      "Epoch 11/25\n",
      "250/250 [==============================] - 53s 213ms/step - loss: 0.3740 - accuracy: 0.8312 - val_loss: 0.4583 - val_accuracy: 0.7985\n",
      "Epoch 12/25\n",
      "250/250 [==============================] - 58s 230ms/step - loss: 0.3532 - accuracy: 0.8412 - val_loss: 0.4665 - val_accuracy: 0.7985\n",
      "Epoch 13/25\n",
      "250/250 [==============================] - 57s 228ms/step - loss: 0.3472 - accuracy: 0.8424 - val_loss: 0.4618 - val_accuracy: 0.8115\n",
      "Epoch 14/25\n",
      "250/250 [==============================] - 56s 223ms/step - loss: 0.3285 - accuracy: 0.8546 - val_loss: 0.4343 - val_accuracy: 0.8060\n",
      "Epoch 15/25\n",
      "250/250 [==============================] - 56s 222ms/step - loss: 0.3132 - accuracy: 0.8637 - val_loss: 0.4875 - val_accuracy: 0.7950\n",
      "Epoch 16/25\n",
      "250/250 [==============================] - 58s 231ms/step - loss: 0.3108 - accuracy: 0.8626 - val_loss: 0.4635 - val_accuracy: 0.8150\n",
      "Epoch 17/25\n",
      "250/250 [==============================] - 56s 223ms/step - loss: 0.2861 - accuracy: 0.8786 - val_loss: 0.4559 - val_accuracy: 0.8215\n",
      "Epoch 18/25\n",
      "250/250 [==============================] - 58s 230ms/step - loss: 0.2742 - accuracy: 0.8837 - val_loss: 0.4633 - val_accuracy: 0.8115\n",
      "Epoch 19/25\n",
      "250/250 [==============================] - 56s 223ms/step - loss: 0.2671 - accuracy: 0.8875 - val_loss: 0.5130 - val_accuracy: 0.8125\n",
      "Epoch 20/25\n",
      "250/250 [==============================] - 56s 225ms/step - loss: 0.2480 - accuracy: 0.8942 - val_loss: 0.4958 - val_accuracy: 0.8185\n",
      "Epoch 21/25\n",
      "250/250 [==============================] - 56s 223ms/step - loss: 0.2386 - accuracy: 0.9031 - val_loss: 0.5091 - val_accuracy: 0.8145\n",
      "Epoch 22/25\n",
      "250/250 [==============================] - 55s 221ms/step - loss: 0.2353 - accuracy: 0.9014 - val_loss: 0.4801 - val_accuracy: 0.8105\n",
      "Epoch 23/25\n",
      "250/250 [==============================] - 60s 239ms/step - loss: 0.2207 - accuracy: 0.9092 - val_loss: 0.5228 - val_accuracy: 0.8045\n",
      "Epoch 24/25\n",
      "250/250 [==============================] - 112s 448ms/step - loss: 0.2181 - accuracy: 0.9125 - val_loss: 0.5052 - val_accuracy: 0.8300\n",
      "Epoch 25/25\n",
      "250/250 [==============================] - 52s 209ms/step - loss: 0.2000 - accuracy: 0.9197 - val_loss: 0.5083 - val_accuracy: 0.8205\n"
     ]
    },
    {
     "data": {
      "text/plain": [
       "<keras.callbacks.History at 0x15e67d97ee0>"
      ]
     },
     "execution_count": 12,
     "metadata": {},
     "output_type": "execute_result"
    }
   ],
   "source": [
    "cnn.fit(x = training_set, validation_data = test_set, epochs = 25)"
   ]
  },
  {
   "cell_type": "markdown",
   "metadata": {
    "colab_type": "text",
    "id": "U3PZasO0006Z"
   },
   "source": [
    "## Part 4 - Making a single prediction"
   ]
  },
  {
   "cell_type": "code",
   "execution_count": 12,
   "metadata": {},
   "outputs": [
    {
     "data": {
      "text/plain": [
       "'cat'"
      ]
     },
     "execution_count": 12,
     "metadata": {},
     "output_type": "execute_result"
    }
   ],
   "source": [
    "import numpy as np\n",
    "from keras.preprocessing import image\n",
    "\n",
    "test_image = image.load_img('dataset/single_prediction/cat_or_dog_2.jpg', target_size = (64, 64))\n",
    "test_image = image.img_to_array(test_image)\n",
    "test_image = np.expand_dims(test_image, axis = 0)\n",
    "result = cnn.predict(test_image)\n",
    "training_set.class_indices\n",
    "\n",
    "if result[0][0] == 1:\n",
    "    prediction = 'dog'\n",
    "else:\n",
    "    prediction = 'cat'\n",
    "    \n",
    "prediction"
   ]
  }
 ],
 "metadata": {
  "colab": {
   "collapsed_sections": [],
   "name": "convolutional_neural_network.ipynb",
   "provenance": [],
   "toc_visible": true
  },
  "kernelspec": {
   "display_name": "Python 3 (ipykernel)",
   "language": "python",
   "name": "python3"
  },
  "language_info": {
   "codemirror_mode": {
    "name": "ipython",
    "version": 3
   },
   "file_extension": ".py",
   "mimetype": "text/x-python",
   "name": "python",
   "nbconvert_exporter": "python",
   "pygments_lexer": "ipython3",
   "version": "3.9.7"
  }
 },
 "nbformat": 4,
 "nbformat_minor": 1
}
