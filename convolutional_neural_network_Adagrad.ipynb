{
 "cells": [
  {
   "cell_type": "markdown",
   "metadata": {
    "colab_type": "text",
    "id": "3DR-eO17geWu"
   },
   "source": [
    "# Convolutional Neural Network"
   ]
  },
  {
   "cell_type": "markdown",
   "metadata": {
    "colab_type": "text",
    "id": "EMefrVPCg-60"
   },
   "source": [
    "### Importing the libraries"
   ]
  },
  {
   "cell_type": "code",
   "execution_count": 1,
   "metadata": {
    "colab": {},
    "colab_type": "code",
    "id": "sCV30xyVhFbE"
   },
   "outputs": [],
   "source": [
    "import tensorflow as tf\n",
    "from keras.preprocessing.image import ImageDataGenerator"
   ]
  },
  {
   "cell_type": "markdown",
   "metadata": {
    "colab_type": "text",
    "id": "oxQxCBWyoGPE"
   },
   "source": [
    "## Part 1 - Data Preprocessing"
   ]
  },
  {
   "cell_type": "markdown",
   "metadata": {
    "colab_type": "text",
    "id": "MvE-heJNo3GG"
   },
   "source": [
    "### Preprocessing the Training set"
   ]
  },
  {
   "cell_type": "code",
   "execution_count": 2,
   "metadata": {},
   "outputs": [
    {
     "name": "stdout",
     "output_type": "stream",
     "text": [
      "Found 7999 images belonging to 2 classes.\n"
     ]
    }
   ],
   "source": [
    "train_datagen = ImageDataGenerator(rescale = 1./255, shear_range = 0.2, zoom_range = 0.2, horizontal_flip = True)\n",
    "training_set = train_datagen.flow_from_directory('dataset/training_set', target_size = (64, 64), \n",
    "                                                 batch_size = 32, class_mode = 'binary')"
   ]
  },
  {
   "cell_type": "markdown",
   "metadata": {
    "colab_type": "text",
    "id": "mrCMmGw9pHys"
   },
   "source": [
    "### Preprocessing the Test set"
   ]
  },
  {
   "cell_type": "code",
   "execution_count": 3,
   "metadata": {},
   "outputs": [
    {
     "name": "stdout",
     "output_type": "stream",
     "text": [
      "Found 2000 images belonging to 2 classes.\n"
     ]
    }
   ],
   "source": [
    "test_datagen = ImageDataGenerator(rescale = 1./255)\n",
    "test_set = test_datagen.flow_from_directory('dataset/test_set', target_size = (64, 64), \n",
    "                                                 batch_size = 32, class_mode = 'binary')"
   ]
  },
  {
   "cell_type": "markdown",
   "metadata": {
    "colab_type": "text",
    "id": "af8O4l90gk7B"
   },
   "source": [
    "## Part 2 - Building the CNN"
   ]
  },
  {
   "cell_type": "markdown",
   "metadata": {
    "colab_type": "text",
    "id": "ces1gXY2lmoX"
   },
   "source": [
    "### Initialising the CNN"
   ]
  },
  {
   "cell_type": "code",
   "execution_count": 4,
   "metadata": {},
   "outputs": [],
   "source": [
    "cnn = tf.keras.models.Sequential()"
   ]
  },
  {
   "cell_type": "markdown",
   "metadata": {
    "colab_type": "text",
    "id": "u5YJj_XMl5LF"
   },
   "source": [
    "### Step 1 - Convolution"
   ]
  },
  {
   "cell_type": "code",
   "execution_count": 5,
   "metadata": {},
   "outputs": [],
   "source": [
    "cnn.add(tf.keras.layers.Conv2D(filters = 32, kernel_size = 3, activation = 'relu', input_shape = (64, 64, 3)))"
   ]
  },
  {
   "cell_type": "markdown",
   "metadata": {
    "colab_type": "text",
    "id": "tf87FpvxmNOJ"
   },
   "source": [
    "### Step 2 - Pooling"
   ]
  },
  {
   "cell_type": "code",
   "execution_count": 6,
   "metadata": {},
   "outputs": [],
   "source": [
    "cnn.add(tf.keras.layers.MaxPool2D(pool_size = 2, strides = 2))"
   ]
  },
  {
   "cell_type": "markdown",
   "metadata": {
    "colab_type": "text",
    "id": "xaTOgD8rm4mU"
   },
   "source": [
    "### Adding a second convolutional layer"
   ]
  },
  {
   "cell_type": "code",
   "execution_count": 7,
   "metadata": {},
   "outputs": [],
   "source": [
    "cnn.add(tf.keras.layers.Conv2D(filters = 32, kernel_size = 3, activation = 'relu'))\n",
    "cnn.add(tf.keras.layers.MaxPool2D(pool_size = 2, strides = 2))"
   ]
  },
  {
   "cell_type": "markdown",
   "metadata": {
    "colab_type": "text",
    "id": "tmiEuvTunKfk"
   },
   "source": [
    "### Step 3 - Flattening"
   ]
  },
  {
   "cell_type": "code",
   "execution_count": 8,
   "metadata": {},
   "outputs": [],
   "source": [
    "cnn.add(tf.keras.layers.Flatten())"
   ]
  },
  {
   "cell_type": "markdown",
   "metadata": {
    "colab_type": "text",
    "id": "dAoSECOm203v"
   },
   "source": [
    "### Step 4 - Full Connection"
   ]
  },
  {
   "cell_type": "code",
   "execution_count": 9,
   "metadata": {},
   "outputs": [],
   "source": [
    "cnn.add(tf.keras.layers.Dense(units = 128, activation = 'relu'))"
   ]
  },
  {
   "cell_type": "markdown",
   "metadata": {
    "colab_type": "text",
    "id": "yTldFvbX28Na"
   },
   "source": [
    "### Step 5 - Output Layer"
   ]
  },
  {
   "cell_type": "code",
   "execution_count": 10,
   "metadata": {},
   "outputs": [],
   "source": [
    "cnn.add(tf.keras.layers.Dense(units = 1, activation = 'sigmoid'))"
   ]
  },
  {
   "cell_type": "markdown",
   "metadata": {
    "colab_type": "text",
    "id": "D6XkI90snSDl"
   },
   "source": [
    "## Part 3 - Training the CNN"
   ]
  },
  {
   "cell_type": "markdown",
   "metadata": {
    "colab_type": "text",
    "id": "vfrFQACEnc6i"
   },
   "source": [
    "### Compiling the CNN"
   ]
  },
  {
   "cell_type": "code",
   "execution_count": 11,
   "metadata": {},
   "outputs": [],
   "source": [
    "cnn.compile(optimizer = 'SGD', loss = 'binary_crossentropy', metrics = ['accuracy'])"
   ]
  },
  {
   "cell_type": "markdown",
   "metadata": {
    "colab_type": "text",
    "id": "ehS-v3MIpX2h"
   },
   "source": [
    "### Training the CNN on the Training set and evaluating it on the Test set"
   ]
  },
  {
   "cell_type": "code",
   "execution_count": 12,
   "metadata": {},
   "outputs": [
    {
     "name": "stdout",
     "output_type": "stream",
     "text": [
      "Epoch 1/25\n",
      "250/250 [==============================] - 43s 170ms/step - loss: 0.6914 - accuracy: 0.5316 - val_loss: 0.6879 - val_accuracy: 0.5720\n",
      "Epoch 2/25\n",
      "250/250 [==============================] - 35s 141ms/step - loss: 0.6867 - accuracy: 0.5572 - val_loss: 0.6819 - val_accuracy: 0.5930\n",
      "Epoch 3/25\n",
      "250/250 [==============================] - 53s 211ms/step - loss: 0.6803 - accuracy: 0.5916 - val_loss: 0.6756 - val_accuracy: 0.5885\n",
      "Epoch 4/25\n",
      "250/250 [==============================] - 52s 210ms/step - loss: 0.6733 - accuracy: 0.5937 - val_loss: 0.6705 - val_accuracy: 0.5820\n",
      "Epoch 5/25\n",
      "250/250 [==============================] - 54s 217ms/step - loss: 0.6659 - accuracy: 0.6063 - val_loss: 0.6587 - val_accuracy: 0.6125\n",
      "Epoch 6/25\n",
      "250/250 [==============================] - 54s 215ms/step - loss: 0.6582 - accuracy: 0.6201 - val_loss: 0.6446 - val_accuracy: 0.6420\n",
      "Epoch 7/25\n",
      "250/250 [==============================] - 54s 216ms/step - loss: 0.6455 - accuracy: 0.6303 - val_loss: 0.6316 - val_accuracy: 0.6560\n",
      "Epoch 8/25\n",
      "250/250 [==============================] - 53s 213ms/step - loss: 0.6317 - accuracy: 0.6467 - val_loss: 0.6216 - val_accuracy: 0.6765\n",
      "Epoch 9/25\n",
      "250/250 [==============================] - 60s 238ms/step - loss: 0.6245 - accuracy: 0.6573 - val_loss: 0.6212 - val_accuracy: 0.6550\n",
      "Epoch 10/25\n",
      "250/250 [==============================] - 54s 218ms/step - loss: 0.6121 - accuracy: 0.6690 - val_loss: 0.6228 - val_accuracy: 0.6455\n",
      "Epoch 11/25\n",
      "250/250 [==============================] - 54s 215ms/step - loss: 0.6028 - accuracy: 0.6788 - val_loss: 0.6637 - val_accuracy: 0.5975\n",
      "Epoch 12/25\n",
      "250/250 [==============================] - 53s 213ms/step - loss: 0.5921 - accuracy: 0.6832 - val_loss: 0.5857 - val_accuracy: 0.7040\n",
      "Epoch 13/25\n",
      "250/250 [==============================] - 59s 235ms/step - loss: 0.5879 - accuracy: 0.6900 - val_loss: 0.6198 - val_accuracy: 0.6470\n",
      "Epoch 14/25\n",
      "250/250 [==============================] - 59s 236ms/step - loss: 0.5814 - accuracy: 0.6960 - val_loss: 0.5824 - val_accuracy: 0.7035\n",
      "Epoch 15/25\n",
      "250/250 [==============================] - 57s 227ms/step - loss: 0.5771 - accuracy: 0.6930 - val_loss: 0.5819 - val_accuracy: 0.7030\n",
      "Epoch 16/25\n",
      "250/250 [==============================] - 59s 235ms/step - loss: 0.5719 - accuracy: 0.7047 - val_loss: 0.5717 - val_accuracy: 0.7085\n",
      "Epoch 17/25\n",
      "250/250 [==============================] - 57s 227ms/step - loss: 0.5645 - accuracy: 0.7026 - val_loss: 0.5601 - val_accuracy: 0.7175\n",
      "Epoch 18/25\n",
      "250/250 [==============================] - 56s 225ms/step - loss: 0.5605 - accuracy: 0.7030 - val_loss: 0.5687 - val_accuracy: 0.7130\n",
      "Epoch 19/25\n",
      "250/250 [==============================] - 58s 234ms/step - loss: 0.5555 - accuracy: 0.7192 - val_loss: 0.5485 - val_accuracy: 0.7305\n",
      "Epoch 20/25\n",
      "250/250 [==============================] - 57s 227ms/step - loss: 0.5521 - accuracy: 0.7182 - val_loss: 0.5421 - val_accuracy: 0.7315\n",
      "Epoch 21/25\n",
      "250/250 [==============================] - 57s 226ms/step - loss: 0.5427 - accuracy: 0.7277 - val_loss: 0.5417 - val_accuracy: 0.7340\n",
      "Epoch 22/25\n",
      "250/250 [==============================] - 54s 217ms/step - loss: 0.5396 - accuracy: 0.7300 - val_loss: 0.5790 - val_accuracy: 0.6860\n",
      "Epoch 23/25\n",
      "250/250 [==============================] - 54s 216ms/step - loss: 0.5353 - accuracy: 0.7278 - val_loss: 0.5535 - val_accuracy: 0.7170\n",
      "Epoch 24/25\n",
      "250/250 [==============================] - 57s 226ms/step - loss: 0.5309 - accuracy: 0.7337 - val_loss: 0.5568 - val_accuracy: 0.7225\n",
      "Epoch 25/25\n",
      "250/250 [==============================] - 55s 220ms/step - loss: 0.5259 - accuracy: 0.7337 - val_loss: 0.5248 - val_accuracy: 0.7375\n"
     ]
    },
    {
     "data": {
      "text/plain": [
       "<keras.callbacks.History at 0x15e7c20aee0>"
      ]
     },
     "execution_count": 12,
     "metadata": {},
     "output_type": "execute_result"
    }
   ],
   "source": [
    "cnn.fit(x = training_set, validation_data = test_set, epochs = 25)"
   ]
  },
  {
   "cell_type": "markdown",
   "metadata": {
    "colab_type": "text",
    "id": "U3PZasO0006Z"
   },
   "source": [
    "## Part 4 - Making a single prediction"
   ]
  },
  {
   "cell_type": "code",
   "execution_count": 31,
   "metadata": {},
   "outputs": [
    {
     "data": {
      "text/plain": [
       "'dog'"
      ]
     },
     "execution_count": 31,
     "metadata": {},
     "output_type": "execute_result"
    }
   ],
   "source": [
    "import numpy as np\n",
    "from keras.preprocessing import image\n",
    "\n",
    "test_image = image.load_img('dataset/single_prediction/cat_or_dog_2.jpg', target_size = (64, 64))\n",
    "test_image = image.img_to_array(test_image)\n",
    "test_image = np.expand_dims(test_image, axis = 0)\n",
    "result = cnn.predict(test_image)\n",
    "training_set.class_indices\n",
    "\n",
    "if result[0][0] == 1:\n",
    "    prediction = 'dog'\n",
    "else:\n",
    "    prediction = 'cat'\n",
    "    \n",
    "prediction"
   ]
  }
 ],
 "metadata": {
  "colab": {
   "collapsed_sections": [],
   "name": "convolutional_neural_network.ipynb",
   "provenance": [],
   "toc_visible": true
  },
  "kernelspec": {
   "display_name": "Python 3 (ipykernel)",
   "language": "python",
   "name": "python3"
  },
  "language_info": {
   "codemirror_mode": {
    "name": "ipython",
    "version": 3
   },
   "file_extension": ".py",
   "mimetype": "text/x-python",
   "name": "python",
   "nbconvert_exporter": "python",
   "pygments_lexer": "ipython3",
   "version": "3.9.7"
  }
 },
 "nbformat": 4,
 "nbformat_minor": 1
}
